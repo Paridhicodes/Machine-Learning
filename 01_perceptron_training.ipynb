{
  "nbformat": 4,
  "nbformat_minor": 0,
  "metadata": {
    "colab": {
      "name": "01_perceptron training.ipynb",
      "provenance": [],
      "mount_file_id": "1i7iZzCGdC8WPrNqUXVLeRlWqQBDVVG9P",
      "authorship_tag": "ABX9TyMBjEwDa3WQAsDGOzfsdVci",
      "include_colab_link": true
    },
    "kernelspec": {
      "name": "python3",
      "display_name": "Python 3"
    },
    "language_info": {
      "name": "python"
    }
  },
  "cells": [
    {
      "cell_type": "markdown",
      "metadata": {
        "id": "view-in-github",
        "colab_type": "text"
      },
      "source": [
        "<a href=\"https://colab.research.google.com/github/Paridhicodes/Machine-Learning/blob/master/01_perceptron_training.ipynb\" target=\"_parent\"><img src=\"https://colab.research.google.com/assets/colab-badge.svg\" alt=\"Open In Colab\"/></a>"
      ]
    },
    {
      "cell_type": "code",
      "metadata": {
        "id": "jrH7dmAOU7sq"
      },
      "source": [
        "from google.colab import drive\n",
        "drive.mount()"
      ],
      "execution_count": null,
      "outputs": []
    }
  ]
}